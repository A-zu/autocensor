{
 "cells": [
  {
   "cell_type": "code",
   "execution_count": null,
   "metadata": {},
   "outputs": [
    {
     "ename": "ValueError",
     "evalue": "({'nb'}, 'is not supported')",
     "output_type": "error",
     "traceback": [
      "\u001b[1;31m---------------------------------------------------------------------------\u001b[0m",
      "\u001b[1;31mValueError\u001b[0m                                Traceback (most recent call last)",
      "Cell \u001b[1;32mIn[2], line 39\u001b[0m\n\u001b[0;32m     34\u001b[0m             \u001b[38;5;28mprint\u001b[39m(e)\n\u001b[0;32m     36\u001b[0m     cv2\u001b[38;5;241m.\u001b[39mimwrite(output_path, image)\n\u001b[1;32m---> 39\u001b[0m reader \u001b[38;5;241m=\u001b[39m \u001b[43measyocr\u001b[49m\u001b[38;5;241;43m.\u001b[39;49m\u001b[43mReader\u001b[49m\u001b[43m(\u001b[49m\u001b[43m[\u001b[49m\u001b[38;5;124;43m\"\u001b[39;49m\u001b[38;5;124;43men\u001b[39;49m\u001b[38;5;124;43m\"\u001b[39;49m\u001b[43m,\u001b[49m\u001b[43m \u001b[49m\u001b[38;5;124;43m\"\u001b[39;49m\u001b[38;5;124;43mnb\u001b[39;49m\u001b[38;5;124;43m\"\u001b[39;49m\u001b[43m]\u001b[49m\u001b[43m,\u001b[49m\u001b[43m \u001b[49m\u001b[43mgpu\u001b[49m\u001b[38;5;241;43m=\u001b[39;49m\u001b[38;5;28;43;01mTrue\u001b[39;49;00m\u001b[43m)\u001b[49m\n\u001b[0;32m     40\u001b[0m files \u001b[38;5;241m=\u001b[39m [x \u001b[38;5;28;01mfor\u001b[39;00m x \u001b[38;5;129;01min\u001b[39;00m input_folder\u001b[38;5;241m.\u001b[39miterdir()]\n\u001b[0;32m     42\u001b[0m output_folder\u001b[38;5;241m.\u001b[39mmkdir(exist_ok\u001b[38;5;241m=\u001b[39m\u001b[38;5;28;01mTrue\u001b[39;00m)\n",
      "File \u001b[1;32mc:\\Users\\Sigurd\\AppData\\Local\\Programs\\Python\\Python312\\Lib\\site-packages\\easyocr\\easyocr.py:109\u001b[0m, in \u001b[0;36mReader.__init__\u001b[1;34m(self, lang_list, gpu, model_storage_directory, user_network_directory, detect_network, recog_network, download_enabled, detector, recognizer, verbose, quantize, cudnn_benchmark)\u001b[0m\n\u001b[0;32m    107\u001b[0m unknown_lang \u001b[38;5;241m=\u001b[39m \u001b[38;5;28mset\u001b[39m(lang_list) \u001b[38;5;241m-\u001b[39m \u001b[38;5;28mset\u001b[39m(all_lang_list)\n\u001b[0;32m    108\u001b[0m \u001b[38;5;28;01mif\u001b[39;00m unknown_lang \u001b[38;5;241m!=\u001b[39m \u001b[38;5;28mset\u001b[39m():\n\u001b[1;32m--> 109\u001b[0m     \u001b[38;5;28;01mraise\u001b[39;00m \u001b[38;5;167;01mValueError\u001b[39;00m(unknown_lang, \u001b[38;5;124m'\u001b[39m\u001b[38;5;124mis not supported\u001b[39m\u001b[38;5;124m'\u001b[39m)\n\u001b[0;32m    110\u001b[0m \u001b[38;5;66;03m# choose recognition model\u001b[39;00m\n\u001b[0;32m    111\u001b[0m \u001b[38;5;28;01mif\u001b[39;00m lang_list \u001b[38;5;241m==\u001b[39m [\u001b[38;5;124m'\u001b[39m\u001b[38;5;124men\u001b[39m\u001b[38;5;124m'\u001b[39m]:\n",
      "\u001b[1;31mValueError\u001b[0m: ({'nb'}, 'is not supported')"
     ]
    }
   ],
   "source": [
    "import cv2\n",
    "import easyocr\n",
    "from rich.progress import track\n",
    "from pathlib import Path\n",
    "\n",
    "input_folder = Path().parent / \"images\" / \"input\"\n",
    "output_folder = Path().parent / \"images\" / \"text_blur\"\n",
    "blur_coefficient = 100 * 2 + 1\n",
    "\n",
    "\n",
    "def blur_text_easyocr(image_path, output_path, reader: easyocr.Reader):\n",
    "    image = cv2.imread(image_path)\n",
    "\n",
    "    results = reader.readtext(image)\n",
    "\n",
    "    for bbox, text, confidence in results:\n",
    "        # if confidence > 0.0:  # Confidence threshold\n",
    "        x_coords = [int(p[0]) for p in bbox]\n",
    "        y_coords = [int(p[1]) for p in bbox]\n",
    "\n",
    "        # Get the top-left (min x, min y) and bottom-right (max x, max y)\n",
    "        top_left = (min(x_coords), min(y_coords))\n",
    "        bottom_right = (max(x_coords), max(y_coords))\n",
    "\n",
    "        # Blur the detected region\n",
    "        roi = image[top_left[1] : bottom_right[1], top_left[0] : bottom_right[0]]\n",
    "        try:\n",
    "            blurred = cv2.GaussianBlur(roi, (blur_coefficient, blur_coefficient), 0)\n",
    "            image[top_left[1] : bottom_right[1], top_left[0] : bottom_right[0]] = (\n",
    "                blurred\n",
    "            )\n",
    "        except Exception as e:\n",
    "            print(e)\n",
    "\n",
    "    cv2.imwrite(output_path, image)\n",
    "\n",
    "\n",
    "reader = easyocr.Reader([\"en\", \"no\"], gpu=True)\n",
    "files = [x for x in input_folder.iterdir()]\n",
    "\n",
    "output_folder.mkdir(exist_ok=True)\n",
    "\n",
    "for file in track(files):\n",
    "    blur_text_easyocr(file, output_folder / file.name, reader)"
   ]
  },
  {
   "cell_type": "code",
   "execution_count": null,
   "metadata": {},
   "outputs": [],
   "source": []
  }
 ],
 "metadata": {
  "kernelspec": {
   "display_name": "Python 3",
   "language": "python",
   "name": "python3"
  },
  "language_info": {
   "codemirror_mode": {
    "name": "ipython",
    "version": 3
   },
   "file_extension": ".py",
   "mimetype": "text/x-python",
   "name": "python",
   "nbconvert_exporter": "python",
   "pygments_lexer": "ipython3",
   "version": "3.12.9"
  }
 },
 "nbformat": 4,
 "nbformat_minor": 2
}
