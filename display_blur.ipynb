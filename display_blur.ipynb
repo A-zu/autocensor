{
 "cells": [
  {
   "cell_type": "code",
   "execution_count": null,
   "metadata": {},
   "outputs": [
    {
     "data": {
      "application/vnd.jupyter.widget-view+json": {
       "model_id": "28a8ab514f8e431ea623d851109ef4d3",
       "version_major": 2,
       "version_minor": 0
      },
      "text/plain": [
       "Output()"
      ]
     },
     "metadata": {},
     "output_type": "display_data"
    },
    {
     "name": "stdout",
     "output_type": "stream",
     "text": [
      "\n",
      "0: 640x512 1 book, 30.9ms\n",
      "Speed: 3.8ms preprocess, 30.9ms inference, 1.4ms postprocess per image at shape (1, 3, 640, 512)\n"
     ]
    },
    {
     "name": "stdout",
     "output_type": "stream",
     "text": [
      "\n",
      "0: 480x640 5 cars, 37.8ms\n",
      "Speed: 3.5ms preprocess, 37.8ms inference, 2.6ms postprocess per image at shape (1, 3, 480, 640)\n"
     ]
    },
    {
     "name": "stdout",
     "output_type": "stream",
     "text": [
      "\n"
     ]
    },
    {
     "name": "stdout",
     "output_type": "stream",
     "text": [
      "0: 640x480 1 tv, 34.4ms\n",
      "Speed: 2.9ms preprocess, 34.4ms inference, 0.9ms postprocess per image at shape (1, 3, 640, 480)\n"
     ]
    },
    {
     "name": "stdout",
     "output_type": "stream",
     "text": [
      "\n"
     ]
    },
    {
     "name": "stdout",
     "output_type": "stream",
     "text": [
      "0: 640x480 1 tv, 1 mouse, 1 remote, 1 keyboard, 34.0ms\n",
      "Speed: 1.7ms preprocess, 34.0ms inference, 5.1ms postprocess per image at shape (1, 3, 640, 480)\n"
     ]
    },
    {
     "name": "stdout",
     "output_type": "stream",
     "text": [
      "\n",
      "0: 640x480 1 tv, 1 mouse, 1 book, 34.6ms\n",
      "Speed: 1.7ms preprocess, 34.6ms inference, 3.2ms postprocess per image at shape (1, 3, 640, 480)\n"
     ]
    },
    {
     "name": "stdout",
     "output_type": "stream",
     "text": [
      "\n",
      "0: 480x640 1 person, 1 suitcase, 1 tv, 2 books, 32.8ms\n",
      "Speed: 2.0ms preprocess, 32.8ms inference, 1.8ms postprocess per image at shape (1, 3, 480, 640)\n"
     ]
    },
    {
     "name": "stdout",
     "output_type": "stream",
     "text": [
      "\n",
      "0: 480x640 (no detections), 31.9ms\n",
      "Speed: 1.7ms preprocess, 31.9ms inference, 0.6ms postprocess per image at shape (1, 3, 480, 640)\n"
     ]
    },
    {
     "name": "stdout",
     "output_type": "stream",
     "text": [
      "\n",
      "0: 480x640 (no detections), 30.3ms\n",
      "Speed: 2.0ms preprocess, 30.3ms inference, 0.6ms postprocess per image at shape (1, 3, 480, 640)\n"
     ]
    },
    {
     "name": "stdout",
     "output_type": "stream",
     "text": [
      "\n",
      "0: 480x640 (no detections), 31.0ms\n",
      "Speed: 1.8ms preprocess, 31.0ms inference, 1.0ms postprocess per image at shape (1, 3, 480, 640)\n"
     ]
    },
    {
     "name": "stdout",
     "output_type": "stream",
     "text": [
      "\n"
     ]
    },
    {
     "name": "stdout",
     "output_type": "stream",
     "text": [
      "0: 640x480 1 tv, 4 books, 33.0ms\n",
      "Speed: 1.9ms preprocess, 33.0ms inference, 0.9ms postprocess per image at shape (1, 3, 640, 480)\n"
     ]
    },
    {
     "name": "stdout",
     "output_type": "stream",
     "text": [
      "\n"
     ]
    },
    {
     "name": "stdout",
     "output_type": "stream",
     "text": [
      "0: 640x480 (no detections), 34.3ms\n",
      "Speed: 2.0ms preprocess, 34.3ms inference, 0.9ms postprocess per image at shape (1, 3, 640, 480)\n"
     ]
    }
   ],
   "source": [
    "import cv2\n",
    "from pathlib import Path\n",
    "from ultralytics import YOLO\n",
    "from rich.progress import track\n",
    "\n",
    "\n",
    "items_to_blur = [62, 63]\n",
    "input_folder = Path().parent / \"images\" / \"input\"\n",
    "output_folder = Path().parent / \"images\" / \"display_blur\"\n",
    "blur_coefficient = 201\n",
    "\n",
    "# Run inference\n",
    "model = YOLO(\"yolo12x.pt\", verbose=False)\n",
    "\n",
    "\n",
    "def blur_display(box, image):\n",
    "    bbox = [int(x) for x in box.xyxy[0]]\n",
    "\n",
    "    top_left = [bbox[0], bbox[1]]\n",
    "    bottom_right = [bbox[2], bbox[3]]\n",
    "\n",
    "    roi = image[top_left[1] : bottom_right[1], top_left[0] : bottom_right[0]]\n",
    "    blurred = cv2.GaussianBlur(roi, (blur_coefficient, blur_coefficient), 0)\n",
    "    image[top_left[1] : bottom_right[1], top_left[0] : bottom_right[0]] = blurred\n",
    "\n",
    "\n",
    "files = [x for x in input_folder.iterdir()]\n",
    "output_folder.mkdir(exist_ok=True)\n",
    "\n",
    "for file in track(files):\n",
    "    image = cv2.imread(file)\n",
    "    results = model(image)\n",
    "\n",
    "    for box in results[0].boxes:\n",
    "        if box.cls in items_to_blur:\n",
    "            blur_display(box, image)\n",
    "\n",
    "    cv2.imwrite(output_folder / file.name, image)"
   ]
  },
  {
   "cell_type": "code",
   "execution_count": null,
   "metadata": {},
   "outputs": [],
   "source": [
    "names = {\n",
    "    0: \"person\",\n",
    "    1: \"bicycle\",\n",
    "    2: \"car\",\n",
    "    3: \"motorcycle\",\n",
    "    4: \"airplane\",\n",
    "    5: \"bus\",\n",
    "    6: \"train\",\n",
    "    7: \"truck\",\n",
    "    8: \"boat\",\n",
    "    9: \"traffic light\",\n",
    "    10: \"fire hydrant\",\n",
    "    11: \"stop sign\",\n",
    "    12: \"parking meter\",\n",
    "    13: \"bench\",\n",
    "    14: \"bird\",\n",
    "    15: \"cat\",\n",
    "    16: \"dog\",\n",
    "    17: \"horse\",\n",
    "    18: \"sheep\",\n",
    "    19: \"cow\",\n",
    "    20: \"elephant\",\n",
    "    21: \"bear\",\n",
    "    22: \"zebra\",\n",
    "    23: \"giraffe\",\n",
    "    24: \"backpack\",\n",
    "    25: \"umbrella\",\n",
    "    26: \"handbag\",\n",
    "    27: \"tie\",\n",
    "    28: \"suitcase\",\n",
    "    29: \"frisbee\",\n",
    "    30: \"skis\",\n",
    "    31: \"snowboard\",\n",
    "    32: \"sports ball\",\n",
    "    33: \"kite\",\n",
    "    34: \"baseball bat\",\n",
    "    35: \"baseball glove\",\n",
    "    36: \"skateboard\",\n",
    "    37: \"surfboard\",\n",
    "    38: \"tennis racket\",\n",
    "    39: \"bottle\",\n",
    "    40: \"wine glass\",\n",
    "    41: \"cup\",\n",
    "    42: \"fork\",\n",
    "    43: \"knife\",\n",
    "    44: \"spoon\",\n",
    "    45: \"bowl\",\n",
    "    46: \"banana\",\n",
    "    47: \"apple\",\n",
    "    48: \"sandwich\",\n",
    "    49: \"orange\",\n",
    "    50: \"broccoli\",\n",
    "    51: \"carrot\",\n",
    "    52: \"hot dog\",\n",
    "    53: \"pizza\",\n",
    "    54: \"donut\",\n",
    "    55: \"cake\",\n",
    "    56: \"chair\",\n",
    "    57: \"couch\",\n",
    "    58: \"potted plant\",\n",
    "    59: \"bed\",\n",
    "    60: \"dining table\",\n",
    "    61: \"toilet\",\n",
    "    62: \"tv\",\n",
    "    63: \"laptop\",\n",
    "    64: \"mouse\",\n",
    "    65: \"remote\",\n",
    "    66: \"keyboard\",\n",
    "    67: \"cell phone\",\n",
    "    68: \"microwave\",\n",
    "    69: \"oven\",\n",
    "    70: \"toaster\",\n",
    "    71: \"sink\",\n",
    "    72: \"refrigerator\",\n",
    "    73: \"book\",\n",
    "    74: \"clock\",\n",
    "    75: \"vase\",\n",
    "    76: \"scissors\",\n",
    "    77: \"teddy bear\",\n",
    "    78: \"hair drier\",\n",
    "    79: \"toothbrush\",\n",
    "}\n"
   ]
  }
 ],
 "metadata": {
  "kernelspec": {
   "display_name": "Python 3",
   "language": "python",
   "name": "python3"
  },
  "language_info": {
   "codemirror_mode": {
    "name": "ipython",
    "version": 3
   },
   "file_extension": ".py",
   "mimetype": "text/x-python",
   "name": "python",
   "nbconvert_exporter": "python",
   "pygments_lexer": "ipython3",
   "version": "3.12.9"
  }
 },
 "nbformat": 4,
 "nbformat_minor": 2
}
